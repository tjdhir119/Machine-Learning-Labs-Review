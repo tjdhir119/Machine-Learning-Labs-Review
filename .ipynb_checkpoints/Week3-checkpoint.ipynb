{
 "cells": [
  {
   "cell_type": "code",
   "execution_count": 1,
   "id": "caa3bf29",
   "metadata": {},
   "outputs": [],
   "source": [
    "import copy, math\n",
    "import numpy as np\n",
    "import matplotlib.pyplot as plt"
   ]
  },
  {
   "cell_type": "code",
   "execution_count": 2,
   "id": "c82b9efa",
   "metadata": {},
   "outputs": [],
   "source": [
    "def sigmoid(z):\n",
    "    g = 1/(1+np.exp(-z))\n",
    "    return g"
   ]
  },
  {
   "cell_type": "code",
   "execution_count": 3,
   "id": "e91b2ed9",
   "metadata": {},
   "outputs": [],
   "source": [
    "# z_tmp = np.arange(-10,11)\n",
    "# y = sigmoid(z_tmp)\n",
    "# np.set_printoptions(precision=3) \n",
    "# print(np.c_[z_tmp, y])"
   ]
  },
  {
   "cell_type": "code",
   "execution_count": 4,
   "id": "130316d4",
   "metadata": {},
   "outputs": [],
   "source": [
    "# fig, ax = plt.subplots(1, 1, figsize = (5,3))\n",
    "# ax.plot(z_tmp, y, c=\"r\")\n",
    "# ax.set_title(\"Sigmoid function\")\n",
    "# ax.set_ylabel('sigmoid(z)')\n",
    "# ax.set_xlabel('z')"
   ]
  },
  {
   "cell_type": "code",
   "execution_count": 5,
   "id": "91ec578a",
   "metadata": {},
   "outputs": [],
   "source": [
    "X_train = np.array([[0.5, 1.5], [1,1], [1.5, 0.5], [3, 0.5], [2, 2], [1, 2.5]])\n",
    "y_train = np.array([0, 0, 0, 1, 1, 1])"
   ]
  },
  {
   "cell_type": "code",
   "execution_count": 6,
   "id": "c467b888",
   "metadata": {},
   "outputs": [],
   "source": [
    "def compute_cost(X, y, w, b):\n",
    "    m, n = X.shape\n",
    "    loss_sum = 0\n",
    "    cost = 0.0\n",
    "    z_wb = 0\n",
    "    for i in range(m):\n",
    "        #for j in range(n):\n",
    "        z_wb += (np.dot(X[i], w) + b)\n",
    "        \n",
    "        f_wb = sigmoid(z_wb)\n",
    "        loss = -y[i]*np.log(f_wb)-(1-y[i])*np.log(1-f_wb)\n",
    "        loss_sum += loss\n",
    "    cost = (1/m)*loss_sum\n",
    "    return cost"
   ]
  },
  {
   "cell_type": "code",
   "execution_count": 7,
   "id": "d1e65392",
   "metadata": {},
   "outputs": [
    {
     "data": {
      "text/plain": [
       "0.6931471805599452"
      ]
     },
     "execution_count": 7,
     "metadata": {},
     "output_type": "execute_result"
    }
   ],
   "source": [
    "m, n = X_train.shape\n",
    "initial_w = np.zeros(n)\n",
    "initial_b = 0.\n",
    "cost = compute_cost(X_train, y_train, initial_w, initial_b)\n",
    "cost"
   ]
  },
  {
   "cell_type": "code",
   "execution_count": 8,
   "id": "c2c59fd2",
   "metadata": {},
   "outputs": [
    {
     "data": {
      "text/plain": [
       "58.666666666676065"
      ]
     },
     "execution_count": 8,
     "metadata": {},
     "output_type": "execute_result"
    }
   ],
   "source": [
    "test_w = np.array([0.2, 0.2])\n",
    "test_b = -24.\n",
    "cost = compute_cost(X_train, y_train, test_w, test_b)\n",
    "cost"
   ]
  },
  {
   "cell_type": "code",
   "execution_count": 9,
   "id": "28bcf9f2",
   "metadata": {},
   "outputs": [],
   "source": [
    "def compute_gradient(X, y, w, b):\n",
    "    m, n = X.shape\n",
    "    dj_dw = np.zeros((n,))\n",
    "    dj_db = 0.\n",
    "    z_wb = 0\n",
    "    for i in range(m):\n",
    "        z_wb += (np.dot(X[i], w) + b)\n",
    "        f_wb = sigmoid(z_wb)\n",
    "        err = f_wb - y[i]\n",
    "        dj_db += err\n",
    "        for j in range(n):\n",
    "            dj_dw[j] += err * X[i, j]\n",
    "    dj_dw /= m\n",
    "    dj_db /= m    \n",
    "    return dj_db, dj_dw"
   ]
  },
  {
   "cell_type": "code",
   "execution_count": 10,
   "id": "69ef5469",
   "metadata": {},
   "outputs": [
    {
     "name": "stdout",
     "output_type": "stream",
     "text": [
      "dj_db at initial w and b (zeros):0.0\n",
      "dj_dw at initial w and b (zeros):[-0.25, -0.16666666666666666]\n"
     ]
    }
   ],
   "source": [
    "dj_db, dj_dw = compute_gradient(X_train, y_train, initial_w, initial_b)\n",
    "print(f'dj_db at initial w and b (zeros):{dj_db}' )\n",
    "print(f'dj_dw at initial w and b (zeros):{dj_dw.tolist()}' )"
   ]
  },
  {
   "cell_type": "code",
   "execution_count": 11,
   "id": "62ae73e3",
   "metadata": {},
   "outputs": [
    {
     "name": "stdout",
     "output_type": "stream",
     "text": [
      "dj_db at test w and b: -0.49999999999671535\n",
      "dj_dw at test w and b: [-0.9999999999983578, -0.8333333333284063]\n"
     ]
    }
   ],
   "source": [
    "test_w = np.array([ 0.2, -0.5])\n",
    "test_b = -24\n",
    "dj_db, dj_dw  = compute_gradient(X_train, y_train, test_w, test_b)\n",
    "\n",
    "print('dj_db at test w and b:', dj_db)\n",
    "print('dj_dw at test w and b:', dj_dw.tolist())"
   ]
  },
  {
   "cell_type": "code",
   "execution_count": null,
   "id": "c586c14f",
   "metadata": {},
   "outputs": [],
   "source": []
  }
 ],
 "metadata": {
  "kernelspec": {
   "display_name": "Python 3 (ipykernel)",
   "language": "python",
   "name": "python3"
  },
  "language_info": {
   "codemirror_mode": {
    "name": "ipython",
    "version": 3
   },
   "file_extension": ".py",
   "mimetype": "text/x-python",
   "name": "python",
   "nbconvert_exporter": "python",
   "pygments_lexer": "ipython3",
   "version": "3.10.9"
  }
 },
 "nbformat": 4,
 "nbformat_minor": 5
}
